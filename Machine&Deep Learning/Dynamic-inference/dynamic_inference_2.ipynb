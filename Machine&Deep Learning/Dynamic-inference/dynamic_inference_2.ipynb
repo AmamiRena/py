{
 "cells": [
  {
   "cell_type": "markdown",
   "metadata": {},
   "source": [
    "## 机器学习模型动态增量训练"
   ]
  },
  {
   "cell_type": "markdown",
   "metadata": {},
   "source": [
    "### 静态模型和动态模型\n",
    "- 静态模型采用离线训练方式。一般只训练模型一次，然后长时间使用该模型。\n",
    "- 动态模型采用在线训练方式。数据会不断进入系统，通过不断地更新系统将这些数据整合到模型中。"
   ]
  },
  {
   "cell_type": "markdown",
   "metadata": {},
   "source": [
    "![Imgur](https://i.imgur.com/5bTAAg0.png)"
   ]
  },
  {
   "cell_type": "markdown",
   "metadata": {},
   "source": [
    "scikit-learn 中，<a href=\"https://scikit-learn.org/stable/modules/computing.html#incremental-learning\"><i class=\"fa fa-external-link-square\" aria-hidden=\"true\"> 支持增量训练</i></a> 的算法有："
   ]
  },
  {
   "cell_type": "markdown",
   "metadata": {},
   "source": [
    "- 分类算法\n",
    "    - `sklearn.naive_bayes.MultinomialNB`\n",
    "    - `sklearn.naive_bayes.BernoulliNB`\n",
    "    - `sklearn.linear_model.Perceptron`\n",
    "    - `sklearn.linear_model.SGDClassifier`\n",
    "    - `sklearn.linear_model.PassiveAggressiveClassifier`\n",
    "    - `sklearn.neural_network.MLPClassifier`"
   ]
  },
  {
   "cell_type": "markdown",
   "metadata": {},
   "source": [
    "- 回归算法\n",
    "    - `sklearn.linear_model.SGDRegressor`\n",
    "    - `sklearn.linear_model.PassiveAggressiveRegressor`\n",
    "    - `sklearn.neural_network.MLPRegressor`"
   ]
  },
  {
   "cell_type": "markdown",
   "metadata": {},
   "source": [
    "下面，我们使用人工神经网络来完成模型动态增量训练及部署过程。这里同样选择前面用过的 DIGITS 手写字符数据集。为了实验的需要，我们将手写字符矩阵中大于 0 的值全部替换为 1。"
   ]
  },
  {
   "cell_type": "code",
   "execution_count": 2,
   "metadata": {},
   "outputs": [
    {
     "data": {
      "text/plain": [
       "((1797, 64), (1797,))"
      ]
     },
     "execution_count": 2,
     "metadata": {},
     "output_type": "execute_result"
    }
   ],
   "source": [
    "from sklearn.datasets import load_digits\n",
    "\n",
    "digits=load_digits()\n",
    "\n",
    "digits.data.shape,digits.target.shape"
   ]
  },
  {
   "cell_type": "code",
   "execution_count": 3,
   "metadata": {},
   "outputs": [
    {
     "data": {
      "text/plain": [
       "((1437, 64), (360, 64), (1437,), (360,))"
      ]
     },
     "execution_count": 3,
     "metadata": {},
     "output_type": "execute_result"
    }
   ],
   "source": [
    "from sklearn.model_selection import train_test_split\n",
    "\n",
    "X_train,X_test,y_train,y_test=train_test_split(digits.data,digits.target,random_state=1,test_size=.2)\n",
    "\n",
    "X_train.shape,X_test.shape,y_train.shape,y_test.shape"
   ]
  },
  {
   "cell_type": "code",
   "execution_count": 4,
   "metadata": {},
   "outputs": [
    {
     "name": "stdout",
     "output_type": "stream",
     "text": [
      "Iteration 1, loss = 7.02205935\n",
      "Iteration 2, loss = 3.65516147\n",
      "Iteration 3, loss = 2.47679869\n",
      "Iteration 4, loss = 1.49613624\n",
      "Iteration 5, loss = 1.00259484\n",
      "Iteration 6, loss = 0.72002813\n",
      "Iteration 7, loss = 0.54341224\n",
      "Iteration 8, loss = 0.43746627\n",
      "Iteration 9, loss = 0.36224450\n",
      "Iteration 10, loss = 0.30940686\n",
      "Iteration 11, loss = 0.26808400\n",
      "Iteration 12, loss = 0.23881533\n",
      "Iteration 13, loss = 0.21317742\n",
      "Iteration 14, loss = 0.19387023\n",
      "Iteration 15, loss = 0.17858371\n",
      "Iteration 16, loss = 0.16540074\n",
      "Iteration 17, loss = 0.15237040\n",
      "Iteration 18, loss = 0.14083022\n",
      "Iteration 19, loss = 0.13015872\n",
      "Iteration 20, loss = 0.12388636\n",
      "Iteration 21, loss = 0.11475134\n",
      "Iteration 22, loss = 0.10716270\n",
      "Iteration 23, loss = 0.10093849\n",
      "Iteration 24, loss = 0.09392212\n",
      "Iteration 25, loss = 0.08891589\n",
      "Iteration 26, loss = 0.08473752\n",
      "Iteration 27, loss = 0.08024667\n",
      "Iteration 28, loss = 0.07630452\n",
      "Iteration 29, loss = 0.07093241\n",
      "Iteration 30, loss = 0.06705022\n",
      "Iteration 31, loss = 0.06426208\n",
      "Iteration 32, loss = 0.06073862\n",
      "Iteration 33, loss = 0.05743292\n",
      "Iteration 34, loss = 0.05524405\n",
      "Iteration 35, loss = 0.05257737\n",
      "Iteration 36, loss = 0.04949237\n",
      "Iteration 37, loss = 0.04771388\n",
      "Iteration 38, loss = 0.04545686\n",
      "Iteration 39, loss = 0.04306707\n",
      "Iteration 40, loss = 0.04101056\n",
      "Iteration 41, loss = 0.03913876\n",
      "Iteration 42, loss = 0.03854201\n",
      "Iteration 43, loss = 0.03717838\n",
      "Iteration 44, loss = 0.03520881\n",
      "Iteration 45, loss = 0.03329344\n",
      "Iteration 46, loss = 0.03247741\n",
      "Iteration 47, loss = 0.03017486\n",
      "Iteration 48, loss = 0.02957126\n",
      "Iteration 49, loss = 0.02897609\n",
      "Iteration 50, loss = 0.02674436\n"
     ]
    },
    {
     "name": "stderr",
     "output_type": "stream",
     "text": [
      "/Users/rena/anaconda3/lib/python3.7/site-packages/sklearn/neural_network/_multilayer_perceptron.py:571: ConvergenceWarning: Stochastic Optimizer: Maximum iterations (50) reached and the optimization hasn't converged yet.\n",
      "  % self.max_iter, ConvergenceWarning)\n"
     ]
    },
    {
     "data": {
      "text/plain": [
       "0.975"
      ]
     },
     "execution_count": 4,
     "metadata": {},
     "output_type": "execute_result"
    }
   ],
   "source": [
    "from sklearn.metrics import accuracy_score\n",
    "from sklearn.neural_network import MLPClassifier\n",
    "\n",
    "model=MLPClassifier(random_state=1,verbose=1,max_iter=50)\n",
    "\n",
    "model.fit(X_train,y_train)\n",
    "y_pred=model.predict(X_test)\n",
    "accuracy_score(y_test,y_pred)"
   ]
  },
  {
   "cell_type": "code",
   "execution_count": 5,
   "metadata": {},
   "outputs": [
    {
     "name": "stdout",
     "output_type": "stream",
     "text": [
      "样本索引： 21 被错误预测为： 4 正确标签为： 1\n",
      "样本索引： 58 被错误预测为： 9 正确标签为： 5\n",
      "样本索引： 88 被错误预测为： 9 正确标签为： 5\n",
      "样本索引： 173 被错误预测为： 5 正确标签为： 8\n",
      "样本索引： 208 被错误预测为： 4 正确标签为： 0\n",
      "样本索引： 281 被错误预测为： 4 正确标签为： 0\n",
      "样本索引： 321 被错误预测为： 4 正确标签为： 7\n",
      "样本索引： 347 被错误预测为： 5 正确标签为： 8\n",
      "样本索引： 348 被错误预测为： 3 正确标签为： 5\n",
      "总计错误预测样本数量： 9\n"
     ]
    }
   ],
   "source": [
    "n=0\n",
    "\n",
    "for i,(pred,test) in enumerate(zip(y_pred,y_test)):\n",
    "    if pred!=test:\n",
    "        print('样本索引：', i, '被错误预测为：',pred,'正确标签为：',test)\n",
    "        n+=1\n",
    "print('总计错误预测样本数量：',n)"
   ]
  },
  {
   "cell_type": "code",
   "execution_count": 6,
   "metadata": {},
   "outputs": [
    {
     "data": {
      "text/plain": [
       "<matplotlib.image.AxesImage at 0x1a25586b50>"
      ]
     },
     "execution_count": 6,
     "metadata": {},
     "output_type": "execute_result"
    },
    {
     "data": {
      "image/png": "[encoded data removed]",
      "text/plain": [
       "<Figure size 432x288 with 1 Axes>"
      ]
     },
     "metadata": {
      "needs_background": "light"
     },
     "output_type": "display_data"
    }
   ],
   "source": [
    "import matplotlib.pyplot as plt\n",
    "%matplotlib inline\n",
    "\n",
    "plt.imshow(X_test[108].reshape((8,8)),cmap=plt.cm.gray_r)"
   ]
  },
  {
   "cell_type": "markdown",
   "metadata": {},
   "source": [
    "### 动态增量训练\n",
    "scikit-learn 中，增量训练的方法是 `model.partial_fit(X, y)`，其使用方法与 `model.fit(X, y)` 别无二致。"
   ]
  },
  {
   "cell_type": "code",
   "execution_count": 7,
   "metadata": {},
   "outputs": [
    {
     "name": "stdout",
     "output_type": "stream",
     "text": [
      "Iteration 51, loss = 2.24865593\n"
     ]
    },
    {
     "data": {
      "text/plain": [
       "MLPClassifier(activation='relu', alpha=0.0001, batch_size='auto', beta_1=0.9,\n",
       "              beta_2=0.999, early_stopping=False, epsilon=1e-08,\n",
       "              hidden_layer_sizes=(100,), learning_rate='constant',\n",
       "              learning_rate_init=0.001, max_fun=15000, max_iter=50,\n",
       "              momentum=0.9, n_iter_no_change=10, nesterovs_momentum=True,\n",
       "              power_t=0.5, random_state=1, shuffle=True, solver='adam',\n",
       "              tol=0.0001, validation_fraction=0.1, verbose=1, warm_start=False)"
      ]
     },
     "execution_count": 7,
     "metadata": {},
     "output_type": "execute_result"
    }
   ],
   "source": [
    "import numpy as np\n",
    "\n",
    "addition_index=[]\n",
    "\n",
    "for i,(pred,test) in enumerate(zip(y_pred,y_test)):\n",
    "    if pred!=test:\n",
    "        addition_index.append(i)\n",
    "        \n",
    "addition_X=X_test[addition_index]\n",
    "addition_y=y_test[addition_index]\n",
    "\n",
    "model.partial_fit(addition_X,addition_y)\n",
    "model"
   ]
  },
  {
   "cell_type": "code",
   "execution_count": 8,
   "metadata": {},
   "outputs": [
    {
     "name": "stdout",
     "output_type": "stream",
     "text": [
      "样本索引： 75 被错误预测为： 6 正确标签为： 4\n",
      "样本索引： 88 被错误预测为： 9 正确标签为： 5\n",
      "样本索引： 172 被错误预测为： 8 正确标签为： 3\n",
      "样本索引： 173 被错误预测为： 5 正确标签为： 8\n",
      "样本索引： 229 被错误预测为： 2 正确标签为： 3\n",
      "样本索引： 248 被错误预测为： 8 正确标签为： 3\n",
      "样本索引： 249 被错误预测为： 5 正确标签为： 7\n",
      "样本索引： 281 被错误预测为： 4 正确标签为： 0\n",
      "样本索引： 347 被错误预测为： 5 正确标签为： 8\n",
      "总计错误预测样本数量： 9\n"
     ]
    }
   ],
   "source": [
    "y_pred=model.predict(X_test)\n",
    "accuracy_score(y_test,y_pred)\n",
    "\n",
    "n=0\n",
    "for i,(pred,test) in enumerate(zip(y_pred,y_test)):\n",
    "    if pred!=test:\n",
    "        print('样本索引：', i, '被错误预测为：',pred,'正确标签为：',test)\n",
    "        n+=1\n",
    "print('总计错误预测样本数量：',n)"
   ]
  },
  {
   "cell_type": "code",
   "execution_count": 9,
   "metadata": {},
   "outputs": [
    {
     "name": "stdout",
     "output_type": "stream",
     "text": [
      "请在下方图框中细心绘制手写字符 6\n"
     ]
    },
    {
     "data": {
      "text/html": [
       "\n",
       "<table>\n",
       "<td style=\"border-style: none;\">\n",
       "<div style=\"border: solid 2px #666; width: 43px; height: 44px;\">\n",
       "<canvas width=\"40\" height=\"40\"></canvas>\n",
       "</div></td>\n",
       "<td style=\"border-style: none;\">\n",
       "<button onclick=\"clear_value()\">重绘</button>\n",
       "</td>\n",
       "</table>\n",
       "\n",
       "<script type=\"text/Javascript\">\n",
       "    var pixels = [];\n",
       "    for (var i = 0; i < 8*8; i++) pixels[i] = 0;\n",
       "    var click = 0;\n",
       "\n",
       "    var canvas = document.querySelector(\"canvas\");\n",
       "    canvas.addEventListener(\"mousemove\", function(e){\n",
       "        if (e.buttons == 1) {\n",
       "            click = 1;\n",
       "            canvas.getContext(\"2d\").fillStyle = \"rgb(0,0,0)\";\n",
       "            canvas.getContext(\"2d\").fillRect(e.offsetX, e.offsetY, 5, 5);\n",
       "            x = Math.floor(e.offsetY * 0.2);\n",
       "            y = Math.floor(e.offsetX * 0.2) + 1;\n",
       "            for (var dy = 0; dy < 1; dy++){\n",
       "                for (var dx = 0; dx < 1; dx++){\n",
       "                    if ((x + dx < 8) && (y + dy < 8)){\n",
       "                        pixels[(y+dy)+(x+dx)*8] = 1;\n",
       "                    }\n",
       "                }\n",
       "            }\n",
       "        } else {\n",
       "            if (click == 1) set_value();\n",
       "            click = 0;\n",
       "        }\n",
       "    });\n",
       "    \n",
       "    function set_value(){\n",
       "        var result = \"\"\n",
       "        for (var i = 0; i < 8*8; i++) result += pixels[i] + \",\"\n",
       "        var kernel = IPython.notebook.kernel;\n",
       "        kernel.execute(\"image = [\" + result + \"]\");\n",
       "        kernel.execute(\"f = open('digits.json', 'w')\");\n",
       "        kernel.execute(\"f.write('{\\\"inputs\\\":%s}' % image)\");\n",
       "        kernel.execute(\"f.close()\");\n",
       "    }\n",
       "    \n",
       "    function clear_value(){\n",
       "        canvas.getContext(\"2d\").fillStyle = \"rgb(255,255,255)\";\n",
       "        canvas.getContext(\"2d\").fillRect(0, 0, 40, 40);\n",
       "        for (var i = 0; i < 8*8; i++) pixels[i] = 0;\n",
       "    }\n",
       "</script>\n"
      ],
      "text/plain": [
       "<IPython.core.display.HTML object>"
      ]
     },
     "execution_count": 9,
     "metadata": {},
     "output_type": "execute_result"
    }
   ],
   "source": [
    "#copy and paste\n",
    "from IPython.display import HTML\n",
    "\n",
    "input_form = \"\"\"\n",
    "<table>\n",
    "<td style=\"border-style: none;\">\n",
    "<div style=\"border: solid 2px #666; width: 43px; height: 44px;\">\n",
    "<canvas width=\"40\" height=\"40\"></canvas>\n",
    "</div></td>\n",
    "<td style=\"border-style: none;\">\n",
    "<button onclick=\"clear_value()\">重绘</button>\n",
    "</td>\n",
    "</table>\n",
    "\"\"\"\n",
    "\n",
    "javascript = '''\n",
    "<script type=\"text/Javascript\">\n",
    "    var pixels = [];\n",
    "    for (var i = 0; i < 8*8; i++) pixels[i] = 0;\n",
    "    var click = 0;\n",
    "\n",
    "    var canvas = document.querySelector(\"canvas\");\n",
    "    canvas.addEventListener(\"mousemove\", function(e){\n",
    "        if (e.buttons == 1) {\n",
    "            click = 1;\n",
    "            canvas.getContext(\"2d\").fillStyle = \"rgb(0,0,0)\";\n",
    "            canvas.getContext(\"2d\").fillRect(e.offsetX, e.offsetY, 5, 5);\n",
    "            x = Math.floor(e.offsetY * 0.2);\n",
    "            y = Math.floor(e.offsetX * 0.2) + 1;\n",
    "            for (var dy = 0; dy < 1; dy++){\n",
    "                for (var dx = 0; dx < 1; dx++){\n",
    "                    if ((x + dx < 8) && (y + dy < 8)){\n",
    "                        pixels[(y+dy)+(x+dx)*8] = 1;\n",
    "                    }\n",
    "                }\n",
    "            }\n",
    "        } else {\n",
    "            if (click == 1) set_value();\n",
    "            click = 0;\n",
    "        }\n",
    "    });\n",
    "    \n",
    "    function set_value(){\n",
    "        var result = \"\"\n",
    "        for (var i = 0; i < 8*8; i++) result += pixels[i] + \",\"\n",
    "        var kernel = IPython.notebook.kernel;\n",
    "        kernel.execute(\"image = [\" + result + \"]\");\n",
    "        kernel.execute(\"f = open('digits.json', 'w')\");\n",
    "        kernel.execute(\"f.write('{\\\\\"inputs\\\\\":%s}' % image)\");\n",
    "        kernel.execute(\"f.close()\");\n",
    "    }\n",
    "    \n",
    "    function clear_value(){\n",
    "        canvas.getContext(\"2d\").fillStyle = \"rgb(255,255,255)\";\n",
    "        canvas.getContext(\"2d\").fillRect(0, 0, 40, 40);\n",
    "        for (var i = 0; i < 8*8; i++) pixels[i] = 0;\n",
    "    }\n",
    "</script>\n",
    "'''\n",
    "randint = np.random.randint(0, 9)\n",
    "print(\"请在下方图框中细心绘制手写字符 {randint}\")\n",
    "HTML(input_form + javascript)"
   ]
  },
  {
   "cell_type": "code",
   "execution_count": 13,
   "metadata": {},
   "outputs": [
    {
     "data": {
      "text/plain": [
       "<matplotlib.image.AxesImage at 0x1a25a74f50>"
      ]
     },
     "execution_count": 13,
     "metadata": {},
     "output_type": "execute_result"
    },
    {
     "data": {
      "image/png": "[encoded data removed]",
      "text/plain": [
       "<Figure size 432x288 with 1 Axes>"
      ]
     },
     "metadata": {
      "needs_background": "light"
     },
     "output_type": "display_data"
    }
   ],
   "source": [
    "import json\n",
    "import numpy as np\n",
    "\n",
    "with open('digits.json') as f:\n",
    "    inputs=f.readlines()[0]\n",
    "    inputs_array=np.array(json.loads(inputs)['inputs'])\n",
    "plt.imshow(inputs_array.reshape((8,8)),cmap=plt.cm.gray_r)"
   ]
  },
  {
   "cell_type": "code",
   "execution_count": 15,
   "metadata": {},
   "outputs": [
    {
     "name": "stdout",
     "output_type": "stream",
     "text": [
      "Iteration 1, loss = 2.33868846\n",
      "Iteration 2, loss = 2.11539911\n",
      "Iteration 3, loss = 1.93291806\n",
      "Iteration 4, loss = 1.75265696\n",
      "Iteration 5, loss = 1.57276448\n",
      "Iteration 6, loss = 1.39193571\n",
      "Iteration 7, loss = 1.22789088\n",
      "Iteration 8, loss = 1.08499332\n",
      "Iteration 9, loss = 0.96293545\n",
      "Iteration 10, loss = 0.86495487\n",
      "Iteration 11, loss = 0.78125474\n",
      "Iteration 12, loss = 0.71285892\n",
      "Iteration 13, loss = 0.65713071\n",
      "Iteration 14, loss = 0.60921482\n",
      "Iteration 15, loss = 0.56962371\n",
      "Iteration 16, loss = 0.53302576\n",
      "Iteration 17, loss = 0.50282273\n",
      "Iteration 18, loss = 0.47834713\n",
      "Iteration 19, loss = 0.45562551\n",
      "Iteration 20, loss = 0.43499705\n",
      "Iteration 21, loss = 0.41707431\n",
      "Iteration 22, loss = 0.40100169\n",
      "Iteration 23, loss = 0.38686010\n",
      "Iteration 24, loss = 0.37402078\n",
      "Iteration 25, loss = 0.36225797\n",
      "Iteration 26, loss = 0.35297692\n",
      "Iteration 27, loss = 0.34348046\n",
      "Iteration 28, loss = 0.33366251\n",
      "Iteration 29, loss = 0.32573492\n",
      "Iteration 30, loss = 0.31846702\n",
      "Iteration 31, loss = 0.31202449\n",
      "Iteration 32, loss = 0.30609896\n",
      "Iteration 33, loss = 0.29951998\n",
      "Iteration 34, loss = 0.29266998\n",
      "Iteration 35, loss = 0.28755756\n",
      "Iteration 36, loss = 0.28363542\n",
      "Iteration 37, loss = 0.27802767\n",
      "Iteration 38, loss = 0.27263471\n",
      "Iteration 39, loss = 0.26956038\n",
      "Iteration 40, loss = 0.26370108\n",
      "Iteration 41, loss = 0.26084346\n",
      "Iteration 42, loss = 0.25651316\n",
      "Iteration 43, loss = 0.25202737\n",
      "Iteration 44, loss = 0.25009822\n",
      "Iteration 45, loss = 0.24815962\n",
      "Iteration 46, loss = 0.24414359\n",
      "Iteration 47, loss = 0.23973083\n",
      "Iteration 48, loss = 0.23635639\n",
      "Iteration 49, loss = 0.23316272\n",
      "Iteration 50, loss = 0.23131889\n"
     ]
    },
    {
     "name": "stderr",
     "output_type": "stream",
     "text": [
      "/Users/rena/anaconda3/lib/python3.7/site-packages/sklearn/neural_network/_multilayer_perceptron.py:571: ConvergenceWarning: Stochastic Optimizer: Maximum iterations (50) reached and the optimization hasn't converged yet.\n",
      "  % self.max_iter, ConvergenceWarning)\n"
     ]
    },
    {
     "data": {
      "text/plain": [
       "MLPClassifier(activation='relu', alpha=0.0001, batch_size='auto', beta_1=0.9,\n",
       "              beta_2=0.999, early_stopping=False, epsilon=1e-08,\n",
       "              hidden_layer_sizes=(100,), learning_rate='constant',\n",
       "              learning_rate_init=0.001, max_fun=15000, max_iter=50,\n",
       "              momentum=0.9, n_iter_no_change=10, nesterovs_momentum=True,\n",
       "              power_t=0.5, random_state=None, shuffle=True, solver='adam',\n",
       "              tol=0.001, validation_fraction=0.1, verbose=1, warm_start=False)"
      ]
     },
     "execution_count": 15,
     "metadata": {},
     "output_type": "execute_result"
    }
   ],
   "source": [
    "digits.data[digits.data>0]=1\n",
    "model=MLPClassifier(tol=.001,max_iter=50,verbose=1)\n",
    "model.fit(digits.data,digits.target)"
   ]
  },
  {
   "cell_type": "code",
   "execution_count": 17,
   "metadata": {},
   "outputs": [
    {
     "name": "stdout",
     "output_type": "stream",
     "text": [
      "预测错误｜预测标签: [7]｜真实标签: 6\n",
      "Iteration 51, loss = 6.47393184\n",
      "完成增量训练\n"
     ]
    }
   ],
   "source": [
    "inputs_array =np.atleast_2d(inputs_array)  #2d array\n",
    "result=model.predict(inputs_array) \n",
    "\n",
    "if result != randint:\n",
    "    print(f\"预测错误｜预测标签: {result}｜真实标签: {randint}\")\n",
    "    model.partial_fit(inputs_array, np.atleast_1d(randint))\n",
    "    print(\"完成增量训练\")\n",
    "else:\n",
    "    print(f\"预测正确｜预测标签: {result}｜真实标签: {randint}\")\n",
    "    model.partial_fit(inputs_array, np.atleast_1d(randint))\n",
    "    print(\"完成增量训练\")"
   ]
  },
  {
   "cell_type": "code",
   "execution_count": 18,
   "metadata": {},
   "outputs": [
    {
     "data": {
      "text/plain": [
       "<BarContainer object of 10 artists>"
      ]
     },
     "execution_count": 18,
     "metadata": {},
     "output_type": "execute_result"
    },
    {
     "data": {
      "image/png": "[encoded data removed]",
      "text/plain": [
       "<Figure size 432x288 with 1 Axes>"
      ]
     },
     "metadata": {
      "needs_background": "light"
     },
     "output_type": "display_data"
    }
   ],
   "source": [
    "# 概率值\n",
    "pred_proba=model.predict_proba(np.atleast_2d(inputs_array))\n",
    "\n",
    "plt.xticks(range(10))\n",
    "plt.bar(range(10),pred_proba[0],align='center')"
   ]
  },
  {
   "cell_type": "code",
   "execution_count": null,
   "metadata": {},
   "outputs": [],
   "source": []
  }
 ],
 "metadata": {
  "kernelspec": {
   "display_name": "Python 3.7.6 64-bit ('base': conda)",
   "language": "python",
   "name": "python37664bitbaseconda0abefbd25e874176baffeaaedee02407"
  },
  "language_info": {
   "codemirror_mode": {
    "name": "ipython",
    "version": 3
   },
   "file_extension": ".py",
   "mimetype": "text/x-python",
   "name": "python",
   "nbconvert_exporter": "python",
   "pygments_lexer": "ipython3",
   "version": "3.7.7"
  }
 },
 "nbformat": 4,
 "nbformat_minor": 4
}
